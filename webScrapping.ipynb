{
  "nbformat": 4,
  "nbformat_minor": 0,
  "metadata": {
    "colab": {
      "provenance": []
    },
    "kernelspec": {
      "name": "python3",
      "display_name": "Python 3"
    },
    "language_info": {
      "name": "python"
    }
  },
  "cells": [
    {
      "cell_type": "markdown",
      "source": [
        "# Beginner Level: Basics of Web Scraping\n",
        "## 1. Introduction to Web Scraping\n",
        "**What is Web Scraping?:** The process of extracting data from websites.\n",
        "\n",
        "**Use Cases:** Data collection for research, price monitoring, lead generation, etc.\n",
        "\n",
        "**Legal and Ethical Considerations:** Understand the website's robots.txt file, which indicates allowed crawling behavior.\n",
        "\n",
        "## 2. Tools and Libraries\n",
        "**Python:** A popular choice for web scraping due to its libraries.\n",
        "\n",
        "**Libraries:**\n",
        "\n",
        "**requests:** To send HTTP requests.\n",
        "\n",
        "**BeautifulSoup:** For parsing HTML and extracting information."
      ],
      "metadata": {
        "id": "g7lwMafP1AlX"
      }
    },
    {
      "cell_type": "code",
      "execution_count": null,
      "metadata": {
        "colab": {
          "base_uri": "https://localhost:8080/"
        },
        "id": "rrffLLFUuTZo",
        "outputId": "cbdde743-3deb-4928-c4c3-88d06e562477"
      },
      "outputs": [
        {
          "output_type": "stream",
          "name": "stdout",
          "text": [
            "Requirement already satisfied: requests in /usr/local/lib/python3.10/dist-packages (2.32.3)\n",
            "Requirement already satisfied: beautifulsoup4 in /usr/local/lib/python3.10/dist-packages (4.12.3)\n",
            "Requirement already satisfied: charset-normalizer<4,>=2 in /usr/local/lib/python3.10/dist-packages (from requests) (3.3.2)\n",
            "Requirement already satisfied: idna<4,>=2.5 in /usr/local/lib/python3.10/dist-packages (from requests) (3.7)\n",
            "Requirement already satisfied: urllib3<3,>=1.21.1 in /usr/local/lib/python3.10/dist-packages (from requests) (2.0.7)\n",
            "Requirement already satisfied: certifi>=2017.4.17 in /usr/local/lib/python3.10/dist-packages (from requests) (2024.7.4)\n",
            "Requirement already satisfied: soupsieve>1.2 in /usr/local/lib/python3.10/dist-packages (from beautifulsoup4) (2.5)\n"
          ]
        }
      ],
      "source": [
        "!pip install requests beautifulsoup4\n",
        "\n"
      ]
    },
    {
      "cell_type": "code",
      "source": [
        "import requests\n",
        "from bs4 import BeautifulSoup\n"
      ],
      "metadata": {
        "id": "Lq_HDpda44Ez"
      },
      "execution_count": null,
      "outputs": []
    },
    {
      "cell_type": "code",
      "source": [
        "url = 'http://books.toscrape.com'\n",
        "response = requests.get(url)\n"
      ],
      "metadata": {
        "id": "DTkcuZBP49Ek"
      },
      "execution_count": null,
      "outputs": []
    },
    {
      "cell_type": "code",
      "source": [
        "soup = BeautifulSoup(response.text, 'html.parser')\n"
      ],
      "metadata": {
        "id": "GhGj6i7a5BJI"
      },
      "execution_count": null,
      "outputs": []
    },
    {
      "cell_type": "code",
      "source": [
        "# Find all book titles\n",
        "titles = soup.find_all('h3')\n",
        "\n",
        "for title in titles:\n",
        "    print(title.get_text())\n"
      ],
      "metadata": {
        "colab": {
          "base_uri": "https://localhost:8080/"
        },
        "id": "GhFM1PG55R_J",
        "outputId": "2382b626-eb52-40f6-b515-fe2d314c0636"
      },
      "execution_count": null,
      "outputs": [
        {
          "output_type": "stream",
          "name": "stdout",
          "text": [
            "A Light in the ...\n",
            "Tipping the Velvet\n",
            "Soumission\n",
            "Sharp Objects\n",
            "Sapiens: A Brief History ...\n",
            "The Requiem Red\n",
            "The Dirty Little Secrets ...\n",
            "The Coming Woman: A ...\n",
            "The Boys in the ...\n",
            "The Black Maria\n",
            "Starving Hearts (Triangular Trade ...\n",
            "Shakespeare's Sonnets\n",
            "Set Me Free\n",
            "Scott Pilgrim's Precious Little ...\n",
            "Rip it Up and ...\n",
            "Our Band Could Be ...\n",
            "Olio\n",
            "Mesaerion: The Best Science ...\n",
            "Libertarianism for Beginners\n",
            "It's Only the Himalayas\n"
          ]
        }
      ]
    },
    {
      "cell_type": "code",
      "source": [
        "# Find all prices\n",
        "prices = soup.find_all('p', class_='price_color')\n",
        "\n",
        "for price in prices:\n",
        "    print(price.get_text())\n"
      ],
      "metadata": {
        "colab": {
          "base_uri": "https://localhost:8080/"
        },
        "id": "p3wamcoc5USu",
        "outputId": "8891f6ca-7b15-4fad-fb10-1b5eafb987ab"
      },
      "execution_count": null,
      "outputs": [
        {
          "output_type": "stream",
          "name": "stdout",
          "text": [
            "Â£51.77\n",
            "Â£53.74\n",
            "Â£50.10\n",
            "Â£47.82\n",
            "Â£54.23\n",
            "Â£22.65\n",
            "Â£33.34\n",
            "Â£17.93\n",
            "Â£22.60\n",
            "Â£52.15\n",
            "Â£13.99\n",
            "Â£20.66\n",
            "Â£17.46\n",
            "Â£52.29\n",
            "Â£35.02\n",
            "Â£57.25\n",
            "Â£23.88\n",
            "Â£37.59\n",
            "Â£51.33\n",
            "Â£45.17\n"
          ]
        }
      ]
    },
    {
      "cell_type": "code",
      "source": [
        "base_url = 'http://books.toscrape.com/catalogue/page-{}.html'\n",
        "\n",
        "for page_num in range(1, 3):  # Scraping the first 2 pages\n",
        "    url = base_url.format(page_num)\n",
        "    response = requests.get(url)\n",
        "    soup = BeautifulSoup(response.text, 'html.parser')\n",
        "\n",
        "    # Extract titles and prices\n",
        "    titles = soup.find_all('h3')\n",
        "    prices = soup.find_all('p', class_='price_color')\n",
        "\n",
        "    print(f\"Page {page_num} Titles:\")\n",
        "    for title in titles:\n",
        "        print(title.get_text())\n",
        "\n",
        "    print(f\"Page {page_num} Prices:\")\n",
        "    for price in prices:\n",
        "        print(price.get_text())\n"
      ],
      "metadata": {
        "colab": {
          "base_uri": "https://localhost:8080/"
        },
        "id": "C5YrYO3d5W7g",
        "outputId": "f79c9166-db8a-4ebc-ecf3-c1fb459c8d48"
      },
      "execution_count": null,
      "outputs": [
        {
          "output_type": "stream",
          "name": "stdout",
          "text": [
            "Page 1 Titles:\n",
            "A Light in the ...\n",
            "Tipping the Velvet\n",
            "Soumission\n",
            "Sharp Objects\n",
            "Sapiens: A Brief History ...\n",
            "The Requiem Red\n",
            "The Dirty Little Secrets ...\n",
            "The Coming Woman: A ...\n",
            "The Boys in the ...\n",
            "The Black Maria\n",
            "Starving Hearts (Triangular Trade ...\n",
            "Shakespeare's Sonnets\n",
            "Set Me Free\n",
            "Scott Pilgrim's Precious Little ...\n",
            "Rip it Up and ...\n",
            "Our Band Could Be ...\n",
            "Olio\n",
            "Mesaerion: The Best Science ...\n",
            "Libertarianism for Beginners\n",
            "It's Only the Himalayas\n",
            "Page 1 Prices:\n",
            "Â£51.77\n",
            "Â£53.74\n",
            "Â£50.10\n",
            "Â£47.82\n",
            "Â£54.23\n",
            "Â£22.65\n",
            "Â£33.34\n",
            "Â£17.93\n",
            "Â£22.60\n",
            "Â£52.15\n",
            "Â£13.99\n",
            "Â£20.66\n",
            "Â£17.46\n",
            "Â£52.29\n",
            "Â£35.02\n",
            "Â£57.25\n",
            "Â£23.88\n",
            "Â£37.59\n",
            "Â£51.33\n",
            "Â£45.17\n",
            "Page 2 Titles:\n",
            "In Her Wake\n",
            "How Music Works\n",
            "Foolproof Preserving: A Guide ...\n",
            "Chase Me (Paris Nights ...\n",
            "Black Dust\n",
            "Birdsong: A Story in ...\n",
            "America's Cradle of Quarterbacks: ...\n",
            "Aladdin and His Wonderful ...\n",
            "Worlds Elsewhere: Journeys Around ...\n",
            "Wall and Piece\n",
            "The Four Agreements: A ...\n",
            "The Five Love Languages: ...\n",
            "The Elephant Tree\n",
            "The Bear and the ...\n",
            "Sophie's World\n",
            "Penny Maybe\n",
            "Maude (1883-1993):She Grew Up ...\n",
            "In a Dark, Dark ...\n",
            "Behind Closed Doors\n",
            "You can't bury them ...\n",
            "Page 2 Prices:\n",
            "Â£12.84\n",
            "Â£37.32\n",
            "Â£30.52\n",
            "Â£25.27\n",
            "Â£34.53\n",
            "Â£54.64\n",
            "Â£22.50\n",
            "Â£53.13\n",
            "Â£40.30\n",
            "Â£44.18\n",
            "Â£17.66\n",
            "Â£31.05\n",
            "Â£23.82\n",
            "Â£36.89\n",
            "Â£15.94\n",
            "Â£33.29\n",
            "Â£18.02\n",
            "Â£19.63\n",
            "Â£52.22\n",
            "Â£33.63\n"
          ]
        }
      ]
    },
    {
      "cell_type": "code",
      "source": [
        "import pandas as pd\n",
        "\n",
        "data = {\n",
        "    'Title': [title.get_text() for title in titles],\n",
        "    'Price': [price.get_text() for price in prices]\n",
        "}\n",
        "\n",
        "df = pd.DataFrame(data)\n",
        "df.to_csv('books.csv', index=False)\n"
      ],
      "metadata": {
        "id": "60ytiqPw5hFR"
      },
      "execution_count": null,
      "outputs": []
    }
  ]
}